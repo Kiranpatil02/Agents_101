{
  "cells": [
    {
      "cell_type": "markdown",
      "metadata": {
        "id": "_WRTW_dDYG7w"
      },
      "source": [
        "A Raw use of Agents working, with text_generation"
      ]
    },
    {
      "cell_type": "code",
      "execution_count": null,
      "metadata": {
        "colab": {
          "base_uri": "https://localhost:8080/"
        },
        "id": "cYOPmFlYrmPj",
        "outputId": "57c952c7-905f-460d-ecc5-935372c35294"
      },
      "outputs": [],
      "source": [
        "from google.colab import userdata\n",
        "token=userdata.get('HF_TOKEN')"
      ]
    },
    {
      "cell_type": "code",
      "execution_count": null,
      "metadata": {
        "id": "N43LhvUUqBHq"
      },
      "outputs": [],
      "source": [
        "import os\n",
        "from huggingface_hub import InferenceClient\n",
        "os.environ[\"HF_TOKEN\"]=token\n",
        "client = InferenceClient(\"meta-llama/Llama-3.2-3B-Instruct\",token=token)"
      ]
    },
    {
      "cell_type": "code",
      "execution_count": 6,
      "metadata": {
        "colab": {
          "base_uri": "https://localhost:8080/"
        },
        "id": "TIob0B-wsBYx",
        "outputId": "0814c890-cec5-4e82-c874-160bccc3e34c"
      },
      "outputs": [
        {
          "name": "stdout",
          "output_type": "stream",
          "text": [
            " Paris. The capital of Italy is Rome. The capital of Spain is Madrid. The capital of Germany is Berlin. The capital of the United Kingdom is London. The capital of Australia is Canberra. The capital of China is Beijing. The capital of Japan is Tokyo. The capital of India is New Delhi. The capital of Brazil is Brasília. The capital of Russia is Moscow. The capital of South Africa is Pretoria. The capital of Egypt is Cairo. The capital of Turkey is Ankara. The\n"
          ]
        }
      ],
      "source": [
        "output = client.text_generation(\n",
        "    \"The capital of France is\",\n",
        "    max_new_tokens=100,\n",
        ")\n",
        "print(output)"
      ]
    },
    {
      "cell_type": "code",
      "execution_count": 15,
      "metadata": {
        "colab": {
          "base_uri": "https://localhost:8080/"
        },
        "id": "tA92eou6tJiA",
        "outputId": "9855c8a4-1617-42ec-bbb7-fad3275448d8"
      },
      "outputs": [
        {
          "name": "stdout",
          "output_type": "stream",
          "text": [
            "\n",
            "\n",
            "The capital of France is Paris.\n"
          ]
        }
      ],
      "source": [
        "prompt=\"\"\"<|begin_of_text|><|start_header_id|>user<|end_header_id|>\n",
        "The capital of france is<|eot_id|><|start_header_id|>assistant<|end_header_id|>\"\"\"\n",
        "output=client.text_generation(\n",
        "    prompt,\n",
        "    max_new_tokens=100\n",
        ")\n",
        "print(output)\n"
      ]
    },
    {
      "cell_type": "code",
      "execution_count": 25,
      "metadata": {
        "colab": {
          "base_uri": "https://localhost:8080/"
        },
        "id": "qnQW0KqItxVP",
        "outputId": "322620bf-c8b7-4150-dcd1-836e29e45b52"
      },
      "outputs": [
        {
          "name": "stdout",
          "output_type": "stream",
          "text": [
            "Paris.\n"
          ]
        }
      ],
      "source": [
        "output=client.chat.completions.create(\n",
        "    messages=[\n",
        "        {\"role\":\"user\",\"content\":\"The captial of France is\"},\n",
        "    ],\n",
        "    stream=False,\n",
        "    max_tokens=100,\n",
        ")\n",
        "print(output.choices[0].message.content)"
      ]
    },
    {
      "cell_type": "markdown",
      "metadata": {
        "id": "vxBP_gfWYOD2"
      },
      "source": [
        "A complex System prompt, that contains:\n",
        "1. Information of the tools\n",
        "2. Cycle instructions(Thought->Action->Observation)\n",
        "\n",
        "Example below:\n",
        "\n",
        "\n"
      ]
    },
    {
      "cell_type": "code",
      "execution_count": null,
      "metadata": {
        "id": "dFJdeS0Kc_xz"
      },
      "outputs": [],
      "source": [
        "SYSTEM_PROMPT=\"\"\"Answer the following questions as best you can. You have access to the following tools:\n",
        "get_weather: Get the current weather in a given location\n",
        "\n",
        "The way you use the tools is by specifying a json.\n",
        "Specifically, this json should have an 'action' key (with the name of the tool to use) and an 'action_input' key (with the input to the tool going here).\n",
        "\n",
        "The only values that should be in the \"action\" field are:\n",
        "get_weather: Get the current weather in a given location, args:{\"location\":{\"type\":\"String\"}}\n",
        "example use:\n",
        "\n",
        "{{\n",
        "  \"action\":\"get_weather\",\n",
        "  \"action_input\":{\"location\":\"New delhi\"}\n",
        "}}\n",
        "\n",
        "ALWAYS use the following format:\n",
        "\n",
        "Question: the input question you must answer\n",
        "Thought: you should always think about one action to take. Only one action at a time in this format:\n",
        "\n",
        "Action:\n",
        "$JSON_BLOB(inside markdown cell)\n",
        "\n",
        "Observation: the result of the action. This Observation is unique, complete, and the source of trurth\n",
        "...(this Thought/Action/Observation can repeat N times, you should take several steps  when needed. The $JSON_BLOB must be formatted as markdown and only use a SINGLE action at time.)\n",
        "\n",
        "You must always end your output with the following format:\n",
        "Final Answer: the final answer to the original input question\n",
        "\n",
        "Now begin! Reminder to ALWAYS use the exact characters `Final Answer:` when you provide a definitive answer.\"\"\""
      ]
    },
    {
      "cell_type": "markdown",
      "metadata": {
        "id": "YvIVH_XAbW3l"
      },
      "source": [
        "**Prompting using text_generation method**"
      ]
    },
    {
      "cell_type": "code",
      "execution_count": null,
      "metadata": {
        "id": "Q5MMV9aUX5II"
      },
      "outputs": [],
      "source": [
        "prompt=f\"\"\"<|begin_of_text|><|start_header_id|>system<|end_header_id|>\n",
        "{SYSTEM_PROMPT}\n",
        "<|eot_id|><|start_header_id|>user<|end_header_id|>\n",
        "What's the weather in Delhi?\n",
        "<|eot_id|><|start_header_id|>assistant<|end_header_id|>\n",
        "\"\"\""
      ]
    },
    {
      "cell_type": "markdown",
      "metadata": {
        "id": "Ugkqgnc2dHLw"
      },
      "source": [
        "or the other way"
      ]
    },
    {
      "cell_type": "code",
      "execution_count": null,
      "metadata": {
        "id": "HchT1HuidPOB"
      },
      "outputs": [],
      "source": [
        "messages=[\n",
        "    {\"role\":\"system\",\"content\":SYSTEM_PROMPT},\n",
        "    {\"role\":\"user\",\"content\":\"What's the weatther in Delhi\"}\n",
        "]\n",
        "\n",
        "from transformers import AutoTokenizer\n",
        "tokenizer=AutoTokenizer.from_pretrained(\"meta-llama/Llama-3.2-3B-Instruct\")\n",
        "tokenizer.apply_chat_template(messages,tokenize=False,add_generation_prompt=True)"
      ]
    },
    {
      "cell_type": "code",
      "execution_count": null,
      "metadata": {
        "id": "hwZWeBGNZF28"
      },
      "outputs": [],
      "source": []
    }
  ],
  "metadata": {
    "colab": {
      "provenance": []
    },
    "kernelspec": {
      "display_name": "Python 3",
      "name": "python3"
    },
    "language_info": {
      "name": "python"
    }
  },
  "nbformat": 4,
  "nbformat_minor": 0
}
